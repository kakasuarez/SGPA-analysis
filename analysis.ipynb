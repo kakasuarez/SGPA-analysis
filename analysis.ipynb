{
 "cells": [
  {
   "cell_type": "code",
   "execution_count": null,
   "id": "87f6991f-ecba-41c1-a8ea-00fbf6f8712d",
   "metadata": {},
   "outputs": [],
   "source": [
    "import seaborn as sns\n",
    "import pandas as pd\n",
    "import matplotlib.pyplot as plt"
   ]
  },
  {
   "cell_type": "code",
   "execution_count": null,
   "id": "74356b1d-42c8-44d0-9816-38f9f3412017",
   "metadata": {},
   "outputs": [],
   "source": [
    "df = [pd.read_csv(\"first sem.csv\"), pd.read_csv(\"third sem.csv\"), pd.read_csv(\"fifth sem.csv\"), pd.read_csv(\"seventh sem.csv\")]"
   ]
  },
  {
   "cell_type": "code",
   "execution_count": null,
   "id": "a349882d-8498-4098-ab94-15b023aa2a69",
   "metadata": {},
   "outputs": [],
   "source": [
    "for i in range(4):\n",
    "    sns.displot(df[i]['SGPA']).set(xlabel='SGPA',ylabel='Number of students', title=f\"SGPA of {2*i+1} semester B.Tech.\")\n",
    "    plt.savefig(f\"{i}.png\")"
   ]
  }
 ],
 "metadata": {
  "kernelspec": {
   "display_name": "Python 3 (ipykernel)",
   "language": "python",
   "name": "python3"
  },
  "language_info": {
   "codemirror_mode": {
    "name": "ipython",
    "version": 3
   },
   "file_extension": ".py",
   "mimetype": "text/x-python",
   "name": "python",
   "nbconvert_exporter": "python",
   "pygments_lexer": "ipython3",
   "version": "3.10.12"
  }
 },
 "nbformat": 4,
 "nbformat_minor": 5
}
